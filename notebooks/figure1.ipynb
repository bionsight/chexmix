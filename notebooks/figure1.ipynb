{
 "cells": [
  {
   "cell_type": "code",
   "execution_count": null,
   "metadata": {
    "collapsed": true
   },
   "outputs": [],
   "source": [
    "import json\n",
    "import pickle\n",
    "import networkx as nx\n",
    "import chexmix.graph as graph\n",
    "from chexmix.utils import remove_symbols"
   ]
  },
  {
   "cell_type": "code",
   "execution_count": null,
   "outputs": [],
   "source": [
    "## KPEB data load\n",
    "with open('../data/KPEB/KPEB_name_taxID.json', 'r') as f:\n",
    "    kpeb_data = json.load(f)\n",
    "kpeb_data = {int(k): v for k,v in kpeb_data.items()}\n",
    "\n",
    "##viridiplantae load\n",
    "with open('../data/viridiplanae.txt', 'rb') as f:\n",
    "    viridiplantae = pickle.load(f)\n",
    "path = '../data/network/'"
   ],
   "metadata": {
    "collapsed": false,
    "pycharm": {
     "name": "#%%\n"
    }
   }
  },
  {
   "cell_type": "code",
   "execution_count": null,
   "outputs": [],
   "source": [
    "parent_node_type = graph.TaxParentType.Genus # Recommend Genus\n",
    "keyword = 'amentoflavone'"
   ],
   "metadata": {
    "collapsed": false,
    "pycharm": {
     "name": "#%%\n"
    }
   }
  },
  {
   "cell_type": "code",
   "execution_count": null,
   "outputs": [],
   "source": [
    "file_name = path + remove_symbols(keyword)\n",
    "pubmed_graph = graph.PubMedGraph.from_keyword(keyword) ##\n",
    "article_ids = pubmed_graph.get_article_ids()\n",
    "pubtator_graph = graph.PubTatorGraph.from_article_ids(article_ids)"
   ],
   "metadata": {
    "collapsed": false,
    "pycharm": {
     "name": "#%%\n"
    }
   }
  },
  {
   "cell_type": "code",
   "execution_count": null,
   "outputs": [],
   "source": [
    "tax_graph = graph.TaxonomyGraph.from_pubtator_bioentities(parent_node_type, pubtator_graph.get_bioentities('TAXO'),\n",
    "                                                          viridiplantae, 'KPEB', kpeb_data)"
   ],
   "metadata": {
    "collapsed": false,
    "pycharm": {
     "name": "#%%\n"
    }
   }
  },
  {
   "cell_type": "code",
   "execution_count": null,
   "outputs": [],
   "source": [
    "biograph_of_keyword = graph.BioGraph()\n",
    "biograph_of_keyword.add_edges_from([(keyword, genus) for genus in tax_graph.find_roots()])\n",
    "biograph_of_keyword = biograph_of_keyword.union(tax_graph)\n",
    "biograph_of_keyword = biograph_of_keyword.inherit_attr_from(tax_graph)\n",
    "biograph_of_keyword = biograph_of_keyword.inherit_attr_from(pubmed_graph)\n",
    "nx.write_graphml(biograph_of_keyword, f'{file_name}.graphml')"
   ],
   "metadata": {
    "collapsed": false,
    "pycharm": {
     "name": "#%%\n"
    }
   }
  }
 ],
 "metadata": {
  "kernelspec": {
   "display_name": "Python 3",
   "language": "python",
   "name": "python3"
  },
  "language_info": {
   "codemirror_mode": {
    "name": "ipython",
    "version": 2
   },
   "file_extension": ".py",
   "mimetype": "text/x-python",
   "name": "python",
   "nbconvert_exporter": "python",
   "pygments_lexer": "ipython2",
   "version": "2.7.6"
  }
 },
 "nbformat": 4,
 "nbformat_minor": 0
}