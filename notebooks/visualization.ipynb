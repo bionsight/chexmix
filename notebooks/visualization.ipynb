{
 "cells": [
  {
   "cell_type": "code",
   "execution_count": 14,
   "outputs": [],
   "source": [
    "import chexmix.datasources.classyfire as cf\n",
    "import chexmix.graph as graph\n",
    "import bionlab.pandas as pds\n",
    "from bionlab.presets.efficacy import get_activity_df"
   ],
   "metadata": {
    "collapsed": false,
    "pycharm": {
     "name": "#%%\n"
    }
   }
  },
  {
   "cell_type": "code",
   "execution_count": 18,
   "outputs": [
    {
     "name": "stderr",
     "output_type": "stream",
     "text": [
      "[256] INFO: Load the preset activity_df for cmet\n",
      "[256] INFO: activity reader cannot handle \"Activity\". Ignored 340 entries\n",
      "[256] INFO: activity reader cannot handle \"EC50\". Ignored 2 entries\n",
      "[256] INFO: activity reader cannot handle \"GI50\". Ignored 1 entries\n",
      "[256] INFO: activity reader cannot handle \"INH\". Ignored 6 entries\n",
      "[256] INFO: activity reader cannot handle \"Km\". Ignored 1 entries\n",
      "[256] INFO: activity reader cannot handle \"Ratio IC50\". Ignored 4 entries\n",
      "[256] INFO: activity reader cannot handle \"Residual Activity\". Ignored 316 entries\n",
      "[256] INFO: activity reader cannot handle \"Residual activity\". Ignored 9 entries\n",
      "[256] INFO: activity reader cannot handle \"Selectivity ratio\". Ignored 1 entries\n"
     ]
    }
   ],
   "source": [
    "chem_df = get_activity_df('cmet')"
   ],
   "metadata": {
    "collapsed": false,
    "pycharm": {
     "name": "#%%\n"
    }
   }
  },
  {
   "cell_type": "code",
   "execution_count": 19,
   "outputs": [
    {
     "name": "stderr",
     "output_type": "stream",
     "text": [
      "[256] INFO: 1 cmpds are not identified\n"
     ]
    }
   ],
   "source": [
    "chem_smiles = pds.CompoundAccessor(chem_df).attach_cmpd_info()"
   ],
   "metadata": {
    "collapsed": false,
    "pycharm": {
     "name": "#%%\n"
    }
   }
  },
  {
   "cell_type": "code",
   "execution_count": 20,
   "outputs": [],
   "source": [
    "query_data = cf.query(chem_smiles['smiles'][:15])"
   ],
   "metadata": {
    "collapsed": false,
    "pycharm": {
     "name": "#%%\n"
    }
   }
  },
  {
   "cell_type": "code",
   "execution_count": 21,
   "outputs": [],
   "source": [
    "cg = graph.ClassyFireGraph.from_classyfire_entities(query_data)"
   ],
   "metadata": {
    "collapsed": false,
    "pycharm": {
     "name": "#%%\n"
    }
   }
  },
  {
   "cell_type": "code",
   "execution_count": null,
   "outputs": [],
   "source": [
    "cg.draw()"
   ],
   "metadata": {
    "collapsed": false,
    "pycharm": {
     "name": "#%%\n"
    }
   }
  },
  {
   "cell_type": "code",
   "execution_count": 9,
   "outputs": [
    {
     "data": {
      "text/plain": "NodeDataView({'CLFR:0000000': {'level': 'kingdom', 'name': 'Organic compounds', 'chemont_id': 'CHEMONTID:0000000', 'lineage': [], 'type': 'ClassyFire Chemical Ontology'}, 'CLFR:0000002': {'level': 'superclass', 'name': 'Organoheterocyclic compounds', 'chemont_id': 'CHEMONTID:0000002', 'lineage': ['CLFR:0000000'], 'type': 'ClassyFire Chemical Ontology'}, 'CLFR:0000089': {'level': 'class', 'name': 'Pyridines and derivatives', 'chemont_id': 'CHEMONTID:0000089', 'lineage': ['CLFR:0000000', 'CLFR:0000002'], 'type': 'ClassyFire Chemical Ontology'}, 'CLFR:0002006': {'level': 'subclass', 'name': 'Pyrazolylpyridines', 'chemont_id': 'CHEMONTID:0002006', 'lineage': ['CLFR:0000000', 'CLFR:0000002', 'CLFR:0000089'], 'type': 'ClassyFire Chemical Ontology'}, 'INCK:KLXFBZLBBBMWAI-BXUZGUMPSA-N': {'smiles': 'C[C@@H](Oc1cc(cnc1N)-c1cnn(c1)[C@@H]1CCNC(=O)C1)c1c(Cl)ccc(F)c1Cl', 'molecular_framework': 'Aromatic heteromonocyclic compounds', 'parent': 'CLFR:0002006', 'type': 'Chemical'}, 'INCK:KLXFBZLBBBMWAI-RISCZKNCSA-N': {'smiles': 'C[C@@H](Oc1cc(cnc1N)-c1cnn(c1)[C@H]1CCNC(=O)C1)c1c(Cl)ccc(F)c1Cl', 'molecular_framework': 'Aromatic heteromonocyclic compounds', 'parent': 'CLFR:0002006', 'type': 'Chemical'}, 'CLFR:0000328': {'level': 'class', 'name': 'Imidazopyridines', 'chemont_id': 'CHEMONTID:0000328', 'lineage': ['CLFR:0000000', 'CLFR:0000002'], 'type': 'ClassyFire Chemical Ontology'}, 'INCK:GIWYFDDLIZAORV-UHFFFAOYSA-N': {'smiles': 'C[C](c1ccc2nccn2c1)n1nnc2ncc(nc12)-c1cnn(C)c1', 'molecular_framework': 'Aromatic heteropolycyclic compounds', 'parent': 'CLFR:0000328', 'type': 'Chemical'}, 'CLFR:0001253': {'level': 'class', 'name': 'Quinolines and derivatives', 'chemont_id': 'CHEMONTID:0001253', 'lineage': ['CLFR:0000000', 'CLFR:0000002'], 'type': 'ClassyFire Chemical Ontology'}, 'INCK:JLCUBPHDOQGASY-UHFFFAOYSA-N': {'smiles': 'CS(=O)(=O)OCCN1C=C(C=N1)C1=CN=C2N=NN(CC3=CC4=C(C=C3)N=CC=C4)C2=N1', 'molecular_framework': 'Aromatic heteropolycyclic compounds', 'parent': 'CLFR:0001253', 'type': 'Chemical'}, 'CLFR:0001346': {'level': 'class', 'name': 'Diazines', 'chemont_id': 'CHEMONTID:0001346', 'lineage': ['CLFR:0000000', 'CLFR:0000002'], 'type': 'ClassyFire Chemical Ontology'}, 'CLFR:0000075': {'level': 'subclass', 'name': 'Pyrimidines and pyrimidine derivatives', 'chemont_id': 'CHEMONTID:0000075', 'lineage': ['CLFR:0000000', 'CLFR:0000002', 'CLFR:0001346'], 'type': 'ClassyFire Chemical Ontology'}, 'CLFR:0001893': {'level': 'level5', 'name': 'Halopyrimidines', 'chemont_id': 'CHEMONTID:0001893', 'lineage': ['CLFR:0000000', 'CLFR:0000002', 'CLFR:0001346', 'CLFR:0000075'], 'type': 'ClassyFire Chemical Ontology'}, 'INCK:LZVZJLWUZSMTIA-UHFFFAOYSA-N': {'smiles': 'CN1C=C(C=N1)C1=NN(CC2=CC=CC(=C2)C2=NC=C(Br)C=N2)C(=O)C=C1', 'molecular_framework': 'Aromatic heteromonocyclic compounds', 'parent': 'CLFR:0001893', 'type': 'Chemical'}, 'INCK:WKIALOXOAZXGMG-INIZCTEOSA-N': {'smiles': 'COCCOc1cnc2C=CN([C@@H](C)c3nnc4c(F)cc(cn34)-c3cnn(C)c3)C(=C)c2c1', 'molecular_framework': 'Aromatic heteropolycyclic compounds', 'parent': 'CLFR:0002006', 'type': 'Chemical'}, 'INCK:WKIALOXOAZXGMG-MRXNPFEDSA-N': {'smiles': 'COCCOC1=CN=C2C=CN([C@H](C)C3=NN=C4N3C=C(C=C4F)C3=CN(C)N=C3)C(=C)C2=C1', 'molecular_framework': 'Aromatic heteropolycyclic compounds', 'parent': 'CLFR:0002006', 'type': 'Chemical'}, 'CLFR:0004603': {'level': 'superclass', 'name': 'Organic oxygen compounds', 'chemont_id': 'CHEMONTID:0004603', 'lineage': ['CLFR:0000000'], 'type': 'ClassyFire Chemical Ontology'}, 'CLFR:0000323': {'level': 'class', 'name': 'Organooxygen compounds', 'chemont_id': 'CHEMONTID:0000323', 'lineage': ['CLFR:0000000', 'CLFR:0004603'], 'type': 'ClassyFire Chemical Ontology'}, 'CLFR:0000254': {'level': 'subclass', 'name': 'Ethers', 'chemont_id': 'CHEMONTID:0000254', 'lineage': ['CLFR:0000000', 'CLFR:0004603', 'CLFR:0000323'], 'type': 'ClassyFire Chemical Ontology'}, 'CLFR:0002463': {'level': 'level5', 'name': 'Diarylethers', 'chemont_id': 'CHEMONTID:0002463', 'lineage': ['CLFR:0000000', 'CLFR:0004603', 'CLFR:0000323', 'CLFR:0000254'], 'type': 'ClassyFire Chemical Ontology'}, 'INCK:MQBWIDXXJFSQOA-UHFFFAOYSA-N': {'smiles': '[O-][N+](=O)C1=CC(F)=C(OC2=C3C=CNC3=NC=C2)C=C1', 'molecular_framework': 'Aromatic heteropolycyclic compounds', 'parent': 'CLFR:0002463', 'type': 'Chemical'}, 'INCK:KOAWAWHSMVKCON-UHFFFAOYSA-N': {'smiles': 'FC(F)(C1=NN=C2C=CC(=NN12)C1=CC=NC=C1)C1=CC2=C(C=C1)N=CC=C2', 'molecular_framework': 'Aromatic heteropolycyclic compounds', 'parent': 'CLFR:0001253', 'type': 'Chemical'}, 'INCK:XCBQAQUPLFPVBD-UHFFFAOYSA-N': {'smiles': 'C\\\\C(Oc1cc(cnc1N)-c1cnn(c1)C1CCNCC1)=C1\\\\[C](Cl)C=CC(F)=C1Cl', 'molecular_framework': 'Aromatic heteromonocyclic compounds', 'parent': 'CLFR:0002006', 'type': 'Chemical'}, 'CLFR:0000004': {'level': 'superclass', 'name': 'Organosulfur compounds', 'chemont_id': 'CHEMONTID:0000004', 'lineage': ['CLFR:0000000'], 'type': 'ClassyFire Chemical Ontology'}, 'CLFR:0001202': {'level': 'class', 'name': 'Thioethers', 'chemont_id': 'CHEMONTID:0001202', 'lineage': ['CLFR:0000000', 'CLFR:0000004'], 'type': 'ClassyFire Chemical Ontology'}, 'CLFR:0004631': {'level': 'subclass', 'name': 'Aryl thioethers', 'chemont_id': 'CHEMONTID:0004631', 'lineage': ['CLFR:0000000', 'CLFR:0000004', 'CLFR:0001202'], 'type': 'ClassyFire Chemical Ontology'}, 'CLFR:0003864': {'level': 'level5', 'name': 'Diarylthioethers', 'chemont_id': 'CHEMONTID:0003864', 'lineage': ['CLFR:0000000', 'CLFR:0000004', 'CLFR:0001202', 'CLFR:0004631'], 'type': 'ClassyFire Chemical Ontology'}, 'INCK:JYXHZDNTBJUJNH-UHFFFAOYSA-N': {'smiles': 'CN1C=C(C=N1)C1=NN2C(SC3=CC4=CN(C)N=C4C=C3)=NN=C2C=C1', 'molecular_framework': 'Aromatic heteropolycyclic compounds', 'parent': 'CLFR:0003864', 'type': 'Chemical'}, 'INCK:QAPLSYVCDYUZQZ-UHFFFAOYSA-N': {'smiles': 'OC(=O)c1cnc2nnn(Cc3ccc4ncccc4c3)c2n1', 'molecular_framework': 'Aromatic heteropolycyclic compounds', 'parent': 'CLFR:0001253', 'type': 'Chemical'}, 'CLFR:0002448': {'level': 'superclass', 'name': 'Benzenoids', 'chemont_id': 'CHEMONTID:0002448', 'lineage': ['CLFR:0000000'], 'type': 'ClassyFire Chemical Ontology'}, 'CLFR:0002279': {'level': 'class', 'name': 'Benzene and substituted derivatives', 'chemont_id': 'CHEMONTID:0002279', 'lineage': ['CLFR:0000000', 'CLFR:0002448'], 'type': 'ClassyFire Chemical Ontology'}, 'CLFR:0000035': {'level': 'subclass', 'name': 'Halobenzenes', 'chemont_id': 'CHEMONTID:0000035', 'lineage': ['CLFR:0000000', 'CLFR:0002448', 'CLFR:0002279'], 'type': 'ClassyFire Chemical Ontology'}, 'CLFR:0001099': {'level': 'level5', 'name': 'Chlorobenzenes', 'chemont_id': 'CHEMONTID:0001099', 'lineage': ['CLFR:0000000', 'CLFR:0002448', 'CLFR:0002279', 'CLFR:0000035'], 'type': 'ClassyFire Chemical Ontology'}, 'CLFR:0002564': {'level': 'level6', 'name': 'Dichlorobenzenes', 'chemont_id': 'CHEMONTID:0002564', 'lineage': ['CLFR:0000000', 'CLFR:0002448', 'CLFR:0002279', 'CLFR:0000035', 'CLFR:0001099'], 'type': 'ClassyFire Chemical Ontology'}, 'INCK:IEKMAKBQCRKWLS-SSDOTTSWSA-N': {'smiles': 'C[C@@H](OC1=C(N)N=CC=C1)C1=C(Cl)C=CC(F)=C1Cl', 'molecular_framework': 'Aromatic heteromonocyclic compounds', 'parent': 'CLFR:0002564', 'type': 'Chemical'}, 'INCK:UETMPFPCEQBDIU-UHFFFAOYSA-N': {'smiles': 'Brc1cnc2nnn(Cc3ccc4ncccc4c3)c2n1', 'molecular_framework': 'Aromatic heteropolycyclic compounds', 'parent': 'CLFR:0001253', 'type': 'Chemical'}, 'CLFR:0000285': {'level': 'subclass', 'name': 'Anilides', 'chemont_id': 'CHEMONTID:0000285', 'lineage': ['CLFR:0000000', 'CLFR:0002448', 'CLFR:0002279'], 'type': 'ClassyFire Chemical Ontology'}, 'INCK:FSFMBVMXIPQPMJ-UHFFFAOYSA-N': {'smiles': 'OC1=CC=C(NC(=O)C2(CC2)C(=O)NC2=CC=C(F)C=C2)C=C1', 'molecular_framework': 'Aromatic homomonocyclic compounds', 'parent': 'CLFR:0000285', 'type': 'Chemical'}})"
     },
     "execution_count": 9,
     "metadata": {},
     "output_type": "execute_result"
    }
   ],
   "source": [
    "cg.nodes.data()"
   ],
   "metadata": {
    "collapsed": false,
    "pycharm": {
     "name": "#%%\n"
    }
   }
  },
  {
   "cell_type": "code",
   "execution_count": 24,
   "outputs": [
    {
     "name": "stdout",
     "output_type": "stream",
     "text": [
      "The autoreload extension is already loaded. To reload it, use:\n",
      "  %reload_ext autoreload\n"
     ]
    }
   ],
   "source": [
    "%load_ext autoreload\n",
    "%autoreload 2"
   ],
   "metadata": {
    "collapsed": false,
    "pycharm": {
     "name": "#%%\n"
    }
   }
  },
  {
   "cell_type": "code",
   "execution_count": null,
   "outputs": [],
   "source": [],
   "metadata": {
    "collapsed": false,
    "pycharm": {
     "name": "#%%\n"
    }
   }
  }
 ],
 "metadata": {
  "kernelspec": {
   "display_name": "Python 3",
   "language": "python",
   "name": "python3"
  },
  "language_info": {
   "codemirror_mode": {
    "name": "ipython",
    "version": 2
   },
   "file_extension": ".py",
   "mimetype": "text/x-python",
   "name": "python",
   "nbconvert_exporter": "python",
   "pygments_lexer": "ipython2",
   "version": "2.7.6"
  }
 },
 "nbformat": 4,
 "nbformat_minor": 0
}