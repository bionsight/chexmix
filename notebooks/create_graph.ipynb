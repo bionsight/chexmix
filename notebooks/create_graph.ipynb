{
 "cells": [
  {
   "cell_type": "code",
   "execution_count": null,
   "outputs": [],
   "source": [
    "%load_ext autoreload\n",
    "%autoreload 2\n",
    "\n",
    "import json\n",
    "import pickle\n",
    "from chexmix.datasources import mesh, taxonomy\n",
    "\n",
    "from chexmix.graph import BioGraph,TaxonomyGraph, MeSHGraph, PubTatorGraph, PubMedGraph, TaxParentType, NodeType, EdgeType\n",
    "\n",
    "from chexmix.utils import remove_symbols"
   ],
   "metadata": {
    "collapsed": false,
    "pycharm": {
     "name": "#%%\n"
    }
   }
  },
  {
   "cell_type": "code",
   "execution_count": null,
   "outputs": [],
   "source": [
    "## KPEB data load\n",
    "with open('../data/KPEB/KPEB_name_taxID.json', 'r') as f:\n",
    "    kpeb_data = json.load(f)\n",
    "kpeb_data = {int(k): v for k,v in kpeb_data.items()}\n",
    "\n",
    "##viridiplantae load\n",
    "with open('../data/viridiplanae.txt', 'rb') as f:\n",
    "    viridiplantae = pickle.load(f)"
   ],
   "metadata": {
    "collapsed": false,
    "pycharm": {
     "name": "#%%\n"
    }
   }
  },
  {
   "cell_type": "code",
   "execution_count": null,
   "outputs": [],
   "source": [
    "mesh_table = mesh.load_mesh()"
   ],
   "metadata": {
    "collapsed": false,
    "pycharm": {
     "name": "#%%\n"
    }
   }
  },
  {
   "cell_type": "code",
   "execution_count": null,
   "outputs": [],
   "source": [
    "tax_table = taxonomy.load_taxonomy()"
   ],
   "metadata": {
    "collapsed": false,
    "pycharm": {
     "name": "#%%\n"
    }
   }
  },
  {
   "cell_type": "code",
   "execution_count": null,
   "outputs": [],
   "source": [
    "tax_table['TAXO:63221']"
   ],
   "metadata": {
    "collapsed": false,
    "pycharm": {
     "name": "#%%\n"
    }
   }
  },
  {
   "cell_type": "code",
   "execution_count": null,
   "outputs": [],
   "source": [
    "path = '../data/network/'"
   ],
   "metadata": {
    "collapsed": false,
    "pycharm": {
     "name": "#%%\n"
    }
   }
  },
  {
   "cell_type": "code",
   "execution_count": null,
   "outputs": [],
   "source": [
    "keyword = 'podophyllum peltatum'"
   ],
   "metadata": {
    "collapsed": false,
    "pycharm": {
     "name": "#%%\n"
    }
   }
  },
  {
   "cell_type": "code",
   "execution_count": null,
   "outputs": [],
   "source": [
    "parent_node_type = TaxParentType.Genus # Genus or Family\n",
    "input_names = ['podophyllum peltatum']"
   ],
   "metadata": {
    "collapsed": false,
    "pycharm": {
     "name": "#%%\n"
    }
   }
  },
  {
   "cell_type": "code",
   "execution_count": null,
   "outputs": [],
   "source": [
    "biographs_of_keyword = []\n",
    "# create keyword graph\n",
    "for input_name in input_names:    \n",
    "    file_name = path + remove_symbols(input_name)\n",
    "    pubmed_graph = PubMedGraph.from_keyword(input_name)\n",
    "    article_ids = pubmed_graph.get_article_ids()\n",
    "    pubtator_graph = PubTatorGraph.from_article_ids(article_ids)\n",
    "    tax_raw_graph = TaxonomyGraph.from_table(tax_table)\n",
    "    mesh_raw_graph = MeSHGraph.from_table(mesh_table)\n",
    "    bioentities = pubtator_graph.get_bioentities(['TAXO'])\n",
    "\n",
    "    tax_graph = tax_raw_graph.subgraph_from_pubtator_bioentities(tax_table,parent_node_type, pubtator_graph.get_bioentities(['TAXO']), viridiplantae, 'KPEB', kpeb_data)\n",
    "    mesh_graph = mesh_raw_graph.subgraph_from_pubtator_bioentities(pubtator_graph.get_bioentities(['MSHD','MSHC']))\n",
    "\n",
    "    biograph_of_keyword = BioGraph()\n",
    "    biograph_of_keyword.add_edges_from([(input_name, root_node) for root_node in tax_graph.find_roots()])\n",
    "    mesh_entities_graph = mesh_graph.intersection(pubtator_graph)\n",
    "    biograph_of_keyword.add_edges_from([(input_name, appeared_node) for appeared_node in mesh_entities_graph.nodes()])\n",
    "    biograph_of_keyword.nodes[input_name]['type'] = \"Keyword\"\n",
    "    biograph_of_keyword.inherit_attr_from(tax_graph.union(mesh_graph))\n",
    "    # nx.write_graphml(biograph_of_keyword, f'{file_name}.graphml')\n",
    "    biographs_of_keyword.append(biograph_of_keyword)"
   ],
   "metadata": {
    "collapsed": false,
    "pycharm": {
     "name": "#%%\n"
    }
   }
  },
  {
   "cell_type": "code",
   "execution_count": null,
   "outputs": [],
   "source": [],
   "metadata": {
    "collapsed": false,
    "pycharm": {
     "name": "#%%\n"
    }
   }
  }
 ],
 "metadata": {
  "kernelspec": {
   "display_name": "Python 3",
   "language": "python",
   "name": "python3"
  },
  "language_info": {
   "codemirror_mode": {
    "name": "ipython",
    "version": 3
   },
   "file_extension": ".py",
   "mimetype": "text/x-python",
   "name": "python",
   "nbconvert_exporter": "python",
   "pygments_lexer": "ipython3",
   "version": "3.8.6"
  }
 },
 "nbformat": 4,
 "nbformat_minor": 4
}