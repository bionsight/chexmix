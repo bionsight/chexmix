{
 "cells": [
  {
   "cell_type": "code",
   "execution_count": 1,
   "metadata": {},
   "outputs": [],
   "source": [
    "import json\n",
    "import pickle\n",
    "import networkx as nx\n",
    "import chexmix.graph as graph\n",
    "from chexmix.utils import remove_symbols\n"
   ]
  },
  {
   "cell_type": "code",
   "execution_count": 11,
   "outputs": [
    {
     "name": "stdout",
     "output_type": "stream",
     "text": [
      "1\n"
     ]
    }
   ],
   "source": [
    "## KPEB data load\n",
    "with open('../data/KPEB/KPEB_name_taxID.json', 'r') as f:\n",
    "    kpeb_data = json.load(f)\n",
    "kpeb_data = {int(k): v for k,v in kpeb_data.items()}\n",
    "\n",
    "##viridiplantae load\n",
    "with open('../data/viridiplanae.txt', 'rb') as f:\n",
    "    viridiplantae = pickle.load(f)"
   ],
   "metadata": {
    "collapsed": false,
    "pycharm": {
     "name": "#%%\n"
    }
   }
  },
  {
   "cell_type": "code",
   "execution_count": 3,
   "metadata": {},
   "outputs": [],
   "source": [
    "path = '../data/network/'"
   ]
  },
  {
   "cell_type": "code",
   "execution_count": 4,
   "metadata": {},
   "outputs": [],
   "source": [
    "keyword = 'podophyllum peltatum'"
   ]
  },
  {
   "cell_type": "code",
   "execution_count": 10,
   "metadata": {},
   "outputs": [],
   "source": [
    "parent_node_type = graph.TaxParentType.Genus # Genus or Family\n",
    "input_names = ['podophyllum peltatum', 'taxus cuspidata', 'dermal papilla']"
   ]
  },
  {
   "cell_type": "code",
   "execution_count": null,
   "outputs": [],
   "source": [
    "biographs_of_keyword = []\n",
    "# create keyword graph\n",
    "for input_name in input_names:    \n",
    "    file_name = path + remove_symbols(input_name)\n",
    "    pubmed_graph = graph.PubMedGraph.from_keyword(keyword)\n",
    "    article_ids = pubmed_graph.get_article_ids()\n",
    "    pubtator_graph = graph.PubTatorGraph.from_article_ids(article_ids)\n",
    "    tax_graph = graph.TaxonomyGraph.from_pubtator_bioentities(parent_node_type, pubtator_graph.get_bioentities('TAXO'),\n",
    "                                                              viridiplantae, 'KPEB', kpeb_data)\n",
    "    mesh_graph = graph.MeSHGraph.from_pubtator_bioentities(pubtator_graph.get_bioentities('MESH'), ['D','C'])\n",
    "\n",
    "    biograph_of_keyword = graph.BioGraph()\n",
    "    biograph_of_keyword.add_edges_from([(keyword, root_node) for root_node in tax_graph.find_roots()])\n",
    "    mesh_entities_graph = mesh_graph.intersection(pubtator_graph)\n",
    "    biograph_of_keyword.add_edges_from([(keyword, appeared_node) for appeared_node in mesh_entities_graph.nodes()])\n",
    "    biograph_of_keyword.nodes[keyword]['type'] = \"Keyword\"\n",
    "    biograph_of_keyword.inherit_attr(tax_graph.union(mesh_graph))\n",
    "    nx.write_graphml(biograph_of_keyword, f'{file_name}.graphml')\n",
    "    biographs_of_keyword.append(biograph_of_keyword)"
   ],
   "metadata": {
    "collapsed": false,
    "pycharm": {
     "name": "#%%\n"
    }
   }
  },
  {
   "cell_type": "code",
   "execution_count": null,
   "outputs": [],
   "source": [
    "union_graph = biographs_of_keyword[0]\n",
    "intersect_graph = biographs_of_keyword[0]\n",
    "for g in biographs_of_keyword[1:]:\n",
    "    union_graph.union(g)\n",
    "    intersect_graph.intersection(g)"
   ],
   "metadata": {
    "collapsed": false,
    "pycharm": {
     "name": "#%%\n"
    }
   }
  },
  {
   "cell_type": "code",
   "execution_count": null,
   "outputs": [],
   "source": [
    "union_graph.set_attribute('highlight', True, intersect_graph.nodes())"
   ],
   "metadata": {
    "collapsed": false,
    "pycharm": {
     "name": "#%%\n"
    }
   }
  },
  {
   "cell_type": "code",
   "execution_count": null,
   "metadata": {},
   "outputs": [],
   "source": [
    "# bio graphs\n",
    "for input_name in input_names:    \n",
    "    file_name = path+remove_symbols(input_name)\n",
    "    pubmed_graph = graph.PubMedGraph.from_keyword(keyword)\n",
    "    article_ids = pubmed_graph.get_article_ids()\n",
    "    pubtator_graph = graph.PubTatorGraph.from_article_ids(article_ids)\n",
    "    bioentities = pubtator_graph.get_bioentities('TAXO')\n",
    "    tax_graph = graph.TaxonomyGraph.from_pubtator_bioentities(parent_node_type, bioentities, viridiplantae, 'KPEB', kpeb_data)\n",
    "    bioentities = pubtator_graph.get_bioentities('MESH')\n",
    "    mesh_graph = graph.MeSHGraph.from_pubtator_bioentities(bioentities, ['D','C'])\n",
    "    nx.write_graphml(pubmed_graph.to_graphml(), f'{file_name}_pubmed.graphml')\n",
    "    nx.write_graphml(pubtator_graph, f'{file_name}_pubtator.graphml')\n",
    "    nx.write_graphml(tax_graph, f'{file_name}_taxonomy.graphml')\n",
    "    nx.write_graphml(mesh_graph, f'{file_name}_mesh.graphml')"
   ]
  },
  {
   "cell_type": "code",
   "execution_count": null,
   "metadata": {},
   "outputs": [],
   "source": [
    "# threshold\n",
    "\n",
    "threshold = 3"
   ]
  },
  {
   "cell_type": "code",
   "execution_count": null,
   "metadata": {
    "pycharm": {
     "name": "#%%\n"
    }
   },
   "outputs": [],
   "source": [
    "sub_graph = tax_graph.remain_by_edge_types([graph.EdgeType.INCLUDES])\n",
    "roots = sub_graph.find_roots()\n",
    "selected_roots = [root for root in roots if sub_graph.total_count(nx.descendants(sub_graph, root)) > threshold]\n",
    "sub_graphs = [sub_graph.subgraph_from_root(r) for r in selected_roots]\n",
    "trimmed_graph =  nx.compose_all(sub_graphs)\n",
    "nx.write_graphml(trimmed_graph, f'./{input_name}_tax_thres_{threshold}.graphml')"
   ]
  }
 ],
 "metadata": {
  "kernelspec": {
   "display_name": "Python 3",
   "language": "python",
   "name": "python3"
  },
  "language_info": {
   "codemirror_mode": {
    "name": "ipython",
    "version": 3
   },
   "file_extension": ".py",
   "mimetype": "text/x-python",
   "name": "python",
   "nbconvert_exporter": "python",
   "pygments_lexer": "ipython3",
   "version": "3.8.6"
  }
 },
 "nbformat": 4,
 "nbformat_minor": 4
}