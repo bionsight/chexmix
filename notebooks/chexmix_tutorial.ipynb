{
 "cells": [
  {
   "cell_type": "markdown",
   "id": "bee2fe18-6eb0-4e18-888a-8a9721e472d9",
   "metadata": {},
   "source": [
    "# Introduction\n",
    "This notebook is `Chexmix` tutorial.  \n",
    "The key concept of Chexmix is getting various information from `Keyword`.  \n",
    "  \n",
    "[Chexmix paper]('https://www.nature.com/articles/s41598-022-12093-9')\n",
    "## Contents\n",
    "- how to build graphs\n",
    "- how to combine graphs\n",
    "- how to build Chexmix graph\n"
   ]
  },
  {
   "cell_type": "code",
   "execution_count": 1,
   "id": "c41252e2-dd9f-4ba1-bde8-65e72d71b16f",
   "metadata": {},
   "outputs": [],
   "source": [
    "import json\n",
    "import pickle\n",
    "import networkx as nx\n",
    "import chexmix.graph as graph\n",
    "from chexmix.utils import remove_symbols"
   ]
  },
  {
   "cell_type": "code",
   "execution_count": 2,
   "id": "a62ef5df-12cc-4d31-a745-4d69437abff9",
   "metadata": {},
   "outputs": [],
   "source": [
    "## KPEB data load\n",
    "with open('../data/KPEB/KPEB_name_taxID.json', 'r') as f:\n",
    "    kpeb_data = json.load(f)\n",
    "kpeb_data = {int(k): v for k,v in kpeb_data.items()}\n",
    "\n",
    "##viridiplantae load\n",
    "with open('../data/viridiplanae.txt', 'rb') as f:\n",
    "    viridiplantae = pickle.load(f)"
   ]
  },
  {
   "cell_type": "code",
   "execution_count": 3,
   "id": "7acc55f0-3c4e-475c-a472-20fb02db86bf",
   "metadata": {},
   "outputs": [],
   "source": [
    "# graph save directory path\n",
    "path = '../data/network/'"
   ]
  },
  {
   "cell_type": "code",
   "execution_count": 4,
   "id": "5cf6dbc9-7f0d-4002-a0eb-8a9fa00f657e",
   "metadata": {},
   "outputs": [],
   "source": [
    "# Set division point hierarchical Taxonomy (Genus or Family)\n",
    "parent_node_type = graph.TaxParentType.Genus"
   ]
  },
  {
   "cell_type": "code",
   "execution_count": 5,
   "id": "1d10bd5e-0513-40db-aa6e-c35484c3a578",
   "metadata": {},
   "outputs": [],
   "source": [
    "def draw_graph(g):\n",
    "    nx.draw(g, with_labels=True, connectionstyle=\"arc3,rad=-0.3\")"
   ]
  },
  {
   "cell_type": "markdown",
   "source": [
    "# How to build graphs"
   ],
   "metadata": {
    "collapsed": false,
    "pycharm": {
     "name": "#%% md\n"
    }
   }
  },
  {
   "cell_type": "code",
   "execution_count": null,
   "outputs": [],
   "source": [
    "# pubmed graph using keyword\n",
    "keyword = 'cynandione A' # put keyword\n",
    "\n",
    "pubmed_graph = graph.PubMedGraph.from_keyword(keyword)\n",
    "article_ids = pubmed_graph.get_article_ids()"
   ],
   "metadata": {
    "collapsed": false,
    "pycharm": {
     "name": "#%%\n"
    }
   }
  },
  {
   "cell_type": "code",
   "execution_count": null,
   "outputs": [],
   "source": [
    "draw_graph(pubmed_graph)"
   ],
   "metadata": {
    "collapsed": false,
    "pycharm": {
     "name": "#%%\n"
    }
   }
  },
  {
   "cell_type": "code",
   "execution_count": null,
   "outputs": [],
   "source": [
    "# pubtator graph \n",
    "pubtator_graph = graph.PubTatorGraph.from_article_ids(article_ids)"
   ],
   "metadata": {
    "collapsed": false,
    "pycharm": {
     "name": "#%%\n"
    }
   }
  },
  {
   "cell_type": "code",
   "execution_count": null,
   "outputs": [],
   "source": [
    "# taxonomy graph\n",
    "tax_bioentities = pubtator_graph.get_bioentities('TAXO')\n",
    "tax_graph = graph.TaxonomyGraph.from_pubtator_bioentities(parent_node_type, tax_bioentities, viridiplantae, 'KPEB', kpeb_data)"
   ],
   "metadata": {
    "collapsed": false,
    "pycharm": {
     "name": "#%%\n"
    }
   }
  },
  {
   "cell_type": "code",
   "execution_count": null,
   "outputs": [],
   "source": [
    "# mesh graph\n",
    "mesh_bioentities = pubtator_graph.get_bioentities('MESH')\n",
    "mesh_graph = graph.MeSHGraph.from_pubtator_bioentities(mesh_bioentities, ['D','C'])"
   ],
   "metadata": {
    "collapsed": false,
    "pycharm": {
     "name": "#%%\n"
    }
   }
  },
  {
   "cell_type": "code",
   "execution_count": null,
   "outputs": [],
   "source": [
    "# if you want to see nodes and edges data, run below codes\n",
    "# graph.nodes(data=True)\n",
    "# graph.edges(data=True)\n",
    "list(tax_graph.nodes(data=True))[0]"
   ],
   "metadata": {
    "collapsed": false,
    "pycharm": {
     "name": "#%%\n"
    }
   }
  },
  {
   "cell_type": "markdown",
   "source": [
    "# How to combine graphs\n",
    "- using function\n",
    "    - `graph.union(other_graph)`\n",
    "    - `graph.intersection(other_graph)`"
   ],
   "metadata": {
    "collapsed": false,
    "pycharm": {
     "name": "#%% md\n"
    }
   }
  },
  {
   "cell_type": "code",
   "execution_count": null,
   "outputs": [],
   "source": [
    "union_graph = pubtator_graph.union(tax_graph)\n",
    "# intersect() only represent intersect nodes\n",
    "intersect_graph = pubtator_graph.intersection(mesh_graph)"
   ],
   "metadata": {
    "collapsed": false,
    "pycharm": {
     "name": "#%%\n"
    }
   }
  },
  {
   "cell_type": "code",
   "execution_count": null,
   "outputs": [],
   "source": [
    "draw_graph(pubtator_graph.union(tax_graph))"
   ],
   "metadata": {
    "collapsed": false,
    "pycharm": {
     "name": "#%%\n"
    }
   }
  },
  {
   "cell_type": "code",
   "execution_count": null,
   "outputs": [],
   "source": [
    "draw_graph(intersect_graph)"
   ],
   "metadata": {
    "collapsed": false,
    "pycharm": {
     "name": "#%%\n"
    }
   }
  },
  {
   "cell_type": "markdown",
   "source": [
    "# How to build Chexmix graph"
   ],
   "metadata": {
    "collapsed": false,
    "pycharm": {
     "name": "#%% md\n"
    }
   }
  },
  {
   "cell_type": "code",
   "execution_count": null,
   "outputs": [],
   "source": [
    "input_names = [\"cynandione A\", \"cynanchum wilfordii\"]\n",
    "chexmix_graphs = []"
   ],
   "metadata": {
    "collapsed": false,
    "pycharm": {
     "name": "#%%\n"
    }
   }
  },
  {
   "cell_type": "code",
   "execution_count": null,
   "outputs": [],
   "source": [
    "for input_name in input_names:    \n",
    "    file_name = path + remove_symbols(input_name)\n",
    "    # phase 1. build graphs\n",
    "    pubmed_graph = graph.PubMedGraph.from_keyword(input_name)\n",
    "    article_ids = pubmed_graph.get_article_ids()\n",
    "    \n",
    "    pubtator_graph = graph.PubTatorGraph.from_article_ids(article_ids)\n",
    "    \n",
    "    tax_graph = graph.TaxonomyGraph.from_pubtator_bioentities(parent_node_type, pubtator_graph.get_bioentities('TAXO'),\n",
    "                                                              viridiplantae, 'KPEB', kpeb_data)\n",
    "    \n",
    "    mesh_graph = graph.MeSHGraph.from_pubtator_bioentities(pubtator_graph.get_bioentities('MESH'), ['D','C'])\n",
    "    \n",
    "    # phase 2. combine graphs\n",
    "    chexmix_graph = pubmed_graph.union(pubtator_graph.union(tax_graph).union(mesh_graph))\n",
    "    # export graph\n",
    "    nx.write_graphml(chexmix_graph.to_graphml(), f'{file_name}_chexmix.graphml')\n",
    "    chexmix_graphs.append(chexmix_graph)"
   ],
   "metadata": {
    "collapsed": false,
    "pycharm": {
     "name": "#%%\n"
    }
   }
  },
  {
   "cell_type": "code",
   "execution_count": null,
   "outputs": [],
   "source": [
    "intersection_graph=chexmix_graphs[0].intersection(chexmix_graphs[1])\n",
    "union_graph = chexmix_graphs[0].union(chexmix_graphs[1])"
   ],
   "metadata": {
    "collapsed": false,
    "pycharm": {
     "name": "#%%\n"
    }
   }
  },
  {
   "cell_type": "code",
   "execution_count": null,
   "outputs": [],
   "source": [
    "# export graphs\n",
    "# nx.write_graphml(intersection_graph.to_graphml(), '../data/network/cynandione_test_intersection.graphml')\n",
    "# nx.write_graphml(union_graph.to_graphml(), '../data/network/cynandione_test_union.graphml')"
   ],
   "metadata": {
    "collapsed": false,
    "pycharm": {
     "name": "#%%\n"
    }
   }
  }
 ],
 "metadata": {
  "kernelspec": {
   "display_name": "Python 3 (ipykernel)",
   "language": "python",
   "name": "python3"
  },
  "language_info": {
   "codemirror_mode": {
    "name": "ipython",
    "version": 3
   },
   "file_extension": ".py",
   "mimetype": "text/x-python",
   "name": "python",
   "nbconvert_exporter": "python",
   "pygments_lexer": "ipython3",
   "version": "3.9.7"
  }
 },
 "nbformat": 4,
 "nbformat_minor": 5
}